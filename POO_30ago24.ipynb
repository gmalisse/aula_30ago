{
  "nbformat": 4,
  "nbformat_minor": 0,
  "metadata": {
    "colab": {
      "provenance": [],
      "authorship_tag": "ABX9TyPBtWME/Txsqtn2oWJYIphC",
      "include_colab_link": true
    },
    "kernelspec": {
      "name": "python3",
      "display_name": "Python 3"
    },
    "language_info": {
      "name": "python"
    }
  },
  "cells": [
    {
      "cell_type": "markdown",
      "metadata": {
        "id": "view-in-github",
        "colab_type": "text"
      },
      "source": [
        "<a href=\"https://colab.research.google.com/github/gmalisse/aula_30ago/blob/main/POO_30ago24.ipynb\" target=\"_parent\"><img src=\"https://colab.research.google.com/assets/colab-badge.svg\" alt=\"Open In Colab\"/></a>"
      ]
    },
    {
      "cell_type": "markdown",
      "source": [],
      "metadata": {
        "id": "b_lzavjPeuh5"
      }
    },
    {
      "cell_type": "markdown",
      "source": [
        "Ex.1) Converter graus Farenheit para graus Celsius\n",
        "OBS:\n",
        "Entrada: F\n",
        "Processamento: C = (5/9)(F-32)\n",
        "Saída: C"
      ],
      "metadata": {
        "id": "IzCa7qZTewBI"
      }
    },
    {
      "cell_type": "code",
      "source": [
        "F = float(input('Digite o valor em °F: '))\n",
        "C = (5/9)*(F-32)\n",
        "print(f'O valor de {F:.2F}°F corresponde ao valor de {C:.2F}°C.')"
      ],
      "metadata": {
        "colab": {
          "base_uri": "https://localhost:8080/"
        },
        "id": "nEnQ-Kb3fCif",
        "outputId": "b98be95d-b6ae-4bb1-f3ad-3ef726ec6c8c"
      },
      "execution_count": null,
      "outputs": [
        {
          "output_type": "stream",
          "name": "stdout",
          "text": [
            "Digite o valor em °F: 10\n",
            "O valor de 10.00°F corresponde ao valor de -12.22°C.\n"
          ]
        }
      ]
    },
    {
      "cell_type": "markdown",
      "source": [
        "EX.2) Converter polegadas para milímetros\n",
        "OBS:\n",
        "Entrada: P\n",
        "Processamento: MM = P * 25.4  \n",
        "Saída: MM\n"
      ],
      "metadata": {
        "id": "uvCMb9q3i9og"
      }
    },
    {
      "cell_type": "code",
      "source": [
        "P = float(input('Digite um valor em polegadas para converter em milímetros: '))\n",
        "MM = P * 25.4\n",
        "print(f'O valor em polegadas ({P}) corresponde a {MM:.2F} milímetros.')"
      ],
      "metadata": {
        "colab": {
          "base_uri": "https://localhost:8080/"
        },
        "id": "vaD8A8UbjXFv",
        "outputId": "892e7d85-084c-4257-a011-3f6dab0c8b7a"
      },
      "execution_count": null,
      "outputs": [
        {
          "output_type": "stream",
          "name": "stdout",
          "text": [
            "Digite um valor em polegadas para converter em milímetros: 1\n",
            "O valor em polegadas (1.0) corresponde a 25.4 milímetros\n"
          ]
        }
      ]
    },
    {
      "cell_type": "markdown",
      "source": [
        "EX.3) Converter milímetros para polegadas\n",
        "OBS:\n",
        "Entrada: MM\n",
        "Processamento: P = MM / 25.4\n",
        "Saída: P"
      ],
      "metadata": {
        "id": "unsaQEtvlvuI"
      }
    },
    {
      "cell_type": "code",
      "source": [
        "MM = float(input('Digite um valor em milímetros para converter em polegadas: '))\n",
        "P = MM / 25.4\n",
        "print(f'O valor em milímetros ({MM}) corresponde a {P:.2F} polegadas.')"
      ],
      "metadata": {
        "colab": {
          "base_uri": "https://localhost:8080/"
        },
        "id": "K0pYYld8mCV3",
        "outputId": "03ad15b3-6522-4df2-d434-1280cfc8e7aa"
      },
      "execution_count": null,
      "outputs": [
        {
          "output_type": "stream",
          "name": "stdout",
          "text": [
            "Digite um valor em milímetros para converter em polegadas: 133.5\n",
            "O valor em milímetros (133.5) corresponde a 5.26 polegadas.\n"
          ]
        }
      ]
    },
    {
      "cell_type": "markdown",
      "source": [
        "EX.4) Verificar se o usuário tem idade entre 16 e 70 anos, podendo assim, votar.\n",
        "OBS:\n",
        "Entrada: IDADE\n",
        "Processamento: se IDADE >= 16 e IDADE < 70\n",
        "Saída: Você pode votar / Você não pode votar"
      ],
      "metadata": {
        "id": "nWaxlw2jmtuP"
      }
    },
    {
      "cell_type": "code",
      "source": [
        "IDADE = int(input(\"Por favor, digite uma idade para fazer a verificação: \"))\n",
        "if IDADE >= 16 and IDADE < 70:\n",
        "  print('Você pode votar.')\n",
        "else:\n",
        "  print('Você não pode votar.')"
      ],
      "metadata": {
        "colab": {
          "base_uri": "https://localhost:8080/"
        },
        "id": "2bV76TsXndVz",
        "outputId": "bd1157a3-8470-4d68-e337-702b99ed6699"
      },
      "execution_count": null,
      "outputs": [
        {
          "output_type": "stream",
          "name": "stdout",
          "text": [
            "Por favor, digite uma idade para fazer a verificação: 13\n",
            "Você não pode votar.\n"
          ]
        }
      ]
    }
  ]
}